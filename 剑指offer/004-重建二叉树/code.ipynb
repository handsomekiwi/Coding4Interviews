{
 "cells": [
  {
   "cell_type": "markdown",
   "metadata": {},
   "source": [
    "### 题目描述\n",
    "\n",
    "输入某二叉树的前序遍历和中序遍历的结果，请重建出该二叉树。假设输入的前序遍历和中序遍历的结果中都不含重复的数字。例如输入前序遍历序列{1,2,4,7,3,5,6,8}和中序遍历序列{4,7,2,1,5,3,8,6}，则重建二叉树并返回。\n",
    "\n",
    "### 思路\n",
    "\n",
    "- 用前序遍历找到根结点\n",
    "- \b用根结点在中序遍历中切开左右子树，递归重建二叉树"
   ]
  },
  {
   "cell_type": "code",
   "execution_count": 62,
   "metadata": {},
   "outputs": [
    {
     "name": "stdout",
     "output_type": "stream",
     "text": [
      "后序遍历\n",
      "7 4 2 5 8 6 3 1 "
     ]
    }
   ],
   "source": [
    "class TreeNode:\n",
    "    def __init__(self, x):       \n",
    "        self.val = x\n",
    "        self.left = None\n",
    "        self.right = None\n",
    "class Solution:\n",
    "    # 返回构造的TreeNode根节点\n",
    "    def reConstructBinaryTree(self, pre, tin):\n",
    "        # write code here\n",
    "        if len(pre) == 1:\n",
    "            root = TreeNode(pre[0])\n",
    "            root.left = None\n",
    "            root.right = None\n",
    "            return root\n",
    "        root = TreeNode(pre[0])        \n",
    "        temp1 = tin.index(pre[0])\n",
    "        length = len(tin[:temp1])\n",
    "        if temp1 == 0:\n",
    "            root.left = None\n",
    "        else:\n",
    "            root.left = self.reConstructBinaryTree(pre[1:length+1], tin[:temp1])\n",
    "        if length + 1 < len(pre):\n",
    "            root.right = self.reConstructBinaryTree(pre[length+1:], tin[temp1+1:])\n",
    "        else:\n",
    "            root.right = None\n",
    "        return root\n",
    "s = Solution()\n",
    "root = s.reConstructBinaryTree([1,2,4,7,3,5,6,8],[4,7,2,1,5,3,8,6])\n",
    "def afterTraverse(root):\n",
    "    \"\"\"\n",
    "    后序遍历\n",
    "    :param root:\n",
    "    :return:\n",
    "    \"\"\"\n",
    "    if root is None:\n",
    "        return\n",
    "    afterTraverse(root.left)\n",
    "    afterTraverse(root.right)\n",
    "    print(root.val, end=' ')\n",
    "print(\"后序遍历\")\n",
    "afterTraverse(root)"
   ]
  },
  {
   "cell_type": "code",
   "execution_count": 56,
   "metadata": {},
   "outputs": [
    {
     "name": "stdout",
     "output_type": "stream",
     "text": [
      "前序遍历\n",
      "1 2 4 7 3 5 6 8 \n",
      "\n",
      "中序遍历\n",
      "4 7 2 1 5 3 8 6 \n",
      "\n",
      "后序遍历\n",
      "7 4 2 5 8 6 3 1 "
     ]
    }
   ],
   "source": [
    "class TreeNode:\n",
    "    def __init__(self, x):\n",
    "        self.val = x\n",
    "        self.left = None\n",
    "        self.right = None\n",
    "\n",
    "def preTraverse(root):\n",
    "    \"\"\"\n",
    "    前序遍历\n",
    "    :param root:\n",
    "    :return:\n",
    "    \"\"\"\n",
    "    if root is None:\n",
    "        return\n",
    "    print(root.val, end=' ')\n",
    "    preTraverse(root.left)\n",
    "    preTraverse(root.right)\n",
    "\n",
    "def midTraverse(root):\n",
    "    \"\"\"\n",
    "    中序遍历\n",
    "    :param root:\n",
    "    :return:\n",
    "    \"\"\"\n",
    "    if root is None:\n",
    "        return\n",
    "    midTraverse(root.left)\n",
    "    print(root.val, end=' ')\n",
    "    midTraverse(root.right)\n",
    "\n",
    "def afterTraverse(root):\n",
    "    \"\"\"\n",
    "    后序遍历\n",
    "    :param root:\n",
    "    :return:\n",
    "    \"\"\"\n",
    "    if root is None:\n",
    "        return\n",
    "    afterTraverse(root.left)\n",
    "    afterTraverse(root.right)\n",
    "    print(root.val, end=' ')\n",
    "\n",
    "class Solution:\n",
    "    def reconstructbinarytree(self, pre, tin):\n",
    "        if not pre or not tin:\n",
    "            return None\n",
    "        root = TreeNode(pre.pop(0))\n",
    "        index = tin.index(root.val)  # 找出根结点在中序遍历中的位置\n",
    "        root.left = self.reconstructbinarytree(pre, tin[: index])\n",
    "        root.right = self.reconstructbinarytree(pre, tin[index+1:])\n",
    "        return root\n",
    "\n",
    "\n",
    "pre = [1, 2, 4, 7, 3, 5, 6, 8]\n",
    "tin = [4, 7, 2, 1, 5, 3, 8, 6]\n",
    "# pre = ['E', 'A', 'C', 'B', 'D', 'G', 'F']\n",
    "# tin = ['A', 'B', 'C', 'D', 'E', 'G', 'F']\n",
    "s = Solution()\n",
    "root = s.reconstructbinarytree(pre, tin)  # 重建的树\n",
    "# 检验一下重建的树前序遍历、中序遍历和后序遍历是否正确\n",
    "print(\"前序遍历\")\n",
    "preTraverse(root)\n",
    "print(\"\\n\")\n",
    "print(\"中序遍历\")\n",
    "midTraverse(root)\n",
    "print(\"\\n\")\n",
    "print(\"后序遍历\")\n",
    "afterTraverse(root)"
   ]
  },
  {
   "cell_type": "code",
   "execution_count": null,
   "metadata": {},
   "outputs": [],
   "source": []
  }
 ],
 "metadata": {
  "kernelspec": {
   "display_name": "Python 3",
   "language": "python",
   "name": "python3"
  },
  "language_info": {
   "codemirror_mode": {
    "name": "ipython",
    "version": 3
   },
   "file_extension": ".py",
   "mimetype": "text/x-python",
   "name": "python",
   "nbconvert_exporter": "python",
   "pygments_lexer": "ipython3",
   "version": "3.7.3"
  }
 },
 "nbformat": 4,
 "nbformat_minor": 2
}
