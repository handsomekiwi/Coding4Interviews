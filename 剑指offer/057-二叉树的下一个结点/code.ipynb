{
 "cells": [
  {
   "cell_type": "markdown",
   "metadata": {},
   "source": [
    "### 题目描述\n",
    "\n",
    "给定一个二叉树和其中的一个结点，请找出中序遍历顺序的下一个结点并且返回。注意，树中的结点不仅包含左右子结点，同时包含指向父结点的指针。\n",
    "```\n",
    "    \t    a\n",
    "    \t   /  \\\n",
    "    \t  b    c\n",
    "    \t / \\  / \\\n",
    "    \td  e f   g\n",
    "          / \\\n",
    "         h   i\n",
    "```"
   ]
  },
  {
   "cell_type": "code",
   "execution_count": 4,
   "metadata": {},
   "outputs": [],
   "source": [
    "class TreeLinkNode:\n",
    "    def __init__(self, x):\n",
    "        self.val = x\n",
    "        self.left = None\n",
    "        self.right = None\n",
    "        self.next = None\n",
    "\n",
    "class Solution:\n",
    "    def GetNext(self, pNode):\n",
    "        # write code here\n",
    "        if not pNode: return None\n",
    "        p = pNode\n",
    "        if pNode.right:  # 有右子树\n",
    "            p = pNode.right\n",
    "            while p.left:\n",
    "                p = p.left\n",
    "            return p\n",
    "         # 没有右子树但是有父亲节点\n",
    "        while pNode.next and pNode.next.right == pNode:\n",
    "            pNode = pNode.next\n",
    "        return pNode.next"
   ]
  },
  {
   "cell_type": "code",
   "execution_count": 18,
   "metadata": {},
   "outputs": [],
   "source": [
    "Tree = TreeLinkNode('a')\n",
    "Tree.left = TreeLinkNode('b')\n",
    "Tree.right = TreeLinkNode('c')\n",
    "\n",
    "Tree.left.left = TreeLinkNode('d')\n",
    "Tree.left.right = TreeLinkNode('e')\n",
    "Tree.left.next = TreeLinkNode('a')\n",
    "\n",
    "Tree.right.left = TreeLinkNode('f')\n",
    "Tree.right.right = TreeLinkNode('g')\n",
    "Tree.right.next = TreeLinkNode('c')\n",
    "\n",
    "Tree.left.right.left = TreeLinkNode('h')\n",
    "Tree.left.right.right = TreeLinkNode('i')\n",
    "Tree.left.right.next = TreeLinkNode('e')"
   ]
  },
  {
   "cell_type": "code",
   "execution_count": 19,
   "metadata": {},
   "outputs": [
    {
     "data": {
      "text/plain": [
       "'h'"
      ]
     },
     "execution_count": 19,
     "metadata": {},
     "output_type": "execute_result"
    }
   ],
   "source": [
    "s = Solution()\n",
    "ans = s.GetNext(Tree.left)\n",
    "ans.val"
   ]
  },
  {
   "cell_type": "code",
   "execution_count": null,
   "metadata": {},
   "outputs": [],
   "source": []
  }
 ],
 "metadata": {
  "kernelspec": {
   "display_name": "Python 3",
   "language": "python",
   "name": "python3"
  },
  "language_info": {
   "codemirror_mode": {
    "name": "ipython",
    "version": 3
   },
   "file_extension": ".py",
   "mimetype": "text/x-python",
   "name": "python",
   "nbconvert_exporter": "python",
   "pygments_lexer": "ipython3",
   "version": "3.7.3"
  }
 },
 "nbformat": 4,
 "nbformat_minor": 2
}
