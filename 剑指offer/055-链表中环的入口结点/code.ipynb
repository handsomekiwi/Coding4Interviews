{
 "cells": [
  {
   "cell_type": "markdown",
   "metadata": {},
   "source": [
    "### 题目描述\n",
    "\n",
    "给一个链表，若其中包含环，请找出该链表的环的入口结点，否则，输出null。\n",
    "``````\n",
    "      ----------\n",
    "      v        |\n",
    "1->2->3->4->5->6\n",
    "``````\n"
   ]
  },
  {
   "cell_type": "code",
   "execution_count": 1,
   "metadata": {},
   "outputs": [],
   "source": [
    "# -*- coding:utf-8 -*-\n",
    "class ListNode:\n",
    "    def __init__(self, x):\n",
    "        self.val = x\n",
    "        self.next = None\n",
    "class Solution:\n",
    "    def EntryNodeOfLoop(self, pHead):\n",
    "        # write code here\n",
    "        head = ListNode(0)\n",
    "        head.next = pHead\n",
    "        fast = head\n",
    "        slow = head\n",
    "        while True:\n",
    "            if fast and fast.next:\n",
    "                fast = fast.next.next\n",
    "                slow = slow.next\n",
    "            else:\n",
    "                return None\n",
    "            if fast == slow:\n",
    "                fast = head\n",
    "                break\n",
    "        while fast != slow:\n",
    "            fast = fast.next\n",
    "            slow = slow.next\n",
    "        return fast"
   ]
  },
  {
   "cell_type": "code",
   "execution_count": 16,
   "metadata": {},
   "outputs": [],
   "source": [
    "NewList = ListNode(1)\n",
    "NewList.next = ListNode(2)\n",
    "NewList.next.next = ListNode(3)\n",
    "NewList.next.next.next = ListNode(4)\n",
    "NewList.next.next.next.next = ListNode(5)\n",
    "NewList.next.next.next.next.next = ListNode(6)\n",
    "NewList.next.next.next.next.next.next = NewList.next.next"
   ]
  },
  {
   "cell_type": "code",
   "execution_count": 17,
   "metadata": {},
   "outputs": [
    {
     "data": {
      "text/plain": [
       "3"
      ]
     },
     "execution_count": 17,
     "metadata": {},
     "output_type": "execute_result"
    }
   ],
   "source": [
    "s = Solution()\n",
    "s.EntryNodeOfLoop(NewList).val"
   ]
  },
  {
   "cell_type": "code",
   "execution_count": null,
   "metadata": {},
   "outputs": [],
   "source": []
  }
 ],
 "metadata": {
  "kernelspec": {
   "display_name": "Python 3",
   "language": "python",
   "name": "python3"
  },
  "language_info": {
   "codemirror_mode": {
    "name": "ipython",
    "version": 3
   },
   "file_extension": ".py",
   "mimetype": "text/x-python",
   "name": "python",
   "nbconvert_exporter": "python",
   "pygments_lexer": "ipython3",
   "version": "3.7.4"
  }
 },
 "nbformat": 4,
 "nbformat_minor": 4
}
