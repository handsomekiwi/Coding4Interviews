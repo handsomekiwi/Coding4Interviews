{
 "cells": [
  {
   "cell_type": "markdown",
   "metadata": {},
   "source": [
    "### 题目描述\n",
    "\n",
    "我们可以用 2 * 1 的小矩形横着或者竖着去覆盖更大的矩形。请问用n个2 * 1的小矩形无重叠地覆盖一个2*n的大矩形，总共有多少种方法？\n",
    "\n",
    "### 思路\n",
    "\n",
    "f(1) = 1\n",
    "f(2) = 2\n",
    "\n",
    "f(n) = f(n-1) + f(n-2)"
   ]
  },
  {
   "cell_type": "code",
   "execution_count": 8,
   "metadata": {},
   "outputs": [
    {
     "data": {
      "text/plain": [
       "0"
      ]
     },
     "execution_count": 8,
     "metadata": {},
     "output_type": "execute_result"
    }
   ],
   "source": [
    "class Solution:\n",
    "    def rectCover(self, number):\n",
    "        # write code here\n",
    "        f1 = 1\n",
    "        f2 = 2\n",
    "        if number == 0: return 0;\n",
    "        if number == 1:return f1;\n",
    "        if number == 2:return f2;\n",
    "        for i in range (number-2):\n",
    "            temp = f2\n",
    "            f2 = f1 + f2\n",
    "            f1 = temp\n",
    "        return f2\n",
    "Solution.rectCover(None,0)\n",
    "        "
   ]
  },
  {
   "cell_type": "code",
   "execution_count": null,
   "metadata": {},
   "outputs": [],
   "source": []
  }
 ],
 "metadata": {
  "kernelspec": {
   "display_name": "Python 3",
   "language": "python",
   "name": "python3"
  },
  "language_info": {
   "codemirror_mode": {
    "name": "ipython",
    "version": 3
   },
   "file_extension": ".py",
   "mimetype": "text/x-python",
   "name": "python",
   "nbconvert_exporter": "python",
   "pygments_lexer": "ipython3",
   "version": "3.7.3"
  }
 },
 "nbformat": 4,
 "nbformat_minor": 2
}
