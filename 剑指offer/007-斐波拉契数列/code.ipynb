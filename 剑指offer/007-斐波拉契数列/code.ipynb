{
 "cells": [
  {
   "cell_type": "markdown",
   "metadata": {},
   "source": [
    "### 题目描述\n",
    "大家都知道斐波那契数列，现在要求输入一个整数n，请你输出斐波那契数列的第n项（从0开始，第0项为0）。\n",
    "n<=39\n",
    "\n",
    "### 思路\n",
    "直接用遞迴會有很多計算重複、stack溢出問題，這裡用從下而上求解\n",
    "\n",
    "$$f(n)=f(n-1)+f(n-2)$$"
   ]
  },
  {
   "cell_type": "code",
   "execution_count": 16,
   "metadata": {},
   "outputs": [
    {
     "data": {
      "text/plain": [
       "55"
      ]
     },
     "execution_count": 16,
     "metadata": {},
     "output_type": "execute_result"
    }
   ],
   "source": [
    "class Solution:\n",
    "    def Fibonacci(self, n):\n",
    "        # write code here\n",
    "        res=[0,1]\n",
    "        if(n<2):\n",
    "             return res[n]\n",
    "        f0 = 0\n",
    "        f1 = 1\n",
    "        temp = 0\n",
    "        for i in range(n-1):\n",
    "            temp = f0+f1;\n",
    "            f0=f1\n",
    "            f1=temp\n",
    "        return temp\n",
    "Solution.Fibonacci(None,10)"
   ]
  }
 ],
 "metadata": {
  "kernelspec": {
   "display_name": "Python 3",
   "language": "python",
   "name": "python3"
  },
  "language_info": {
   "codemirror_mode": {
    "name": "ipython",
    "version": 3
   },
   "file_extension": ".py",
   "mimetype": "text/x-python",
   "name": "python",
   "nbconvert_exporter": "python",
   "pygments_lexer": "ipython3",
   "version": "3.7.3"
  }
 },
 "nbformat": 4,
 "nbformat_minor": 2
}
