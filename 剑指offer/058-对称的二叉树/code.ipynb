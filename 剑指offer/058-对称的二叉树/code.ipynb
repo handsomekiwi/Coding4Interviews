{
 "cells": [
  {
   "cell_type": "markdown",
   "metadata": {},
   "source": [
    "### 题目描述\n",
    "\n",
    "请实现一个函数，用来判断一颗二叉树是不是对称的。注意，如果一个二叉树同此二叉树的镜像是同样的，定义其为对称的。\n",
    "```\n",
    "三棵二叉樹，其中第一棵二叉樹是對稱的，另外兩顆不是 \n",
    "    \t    8           8             7\n",
    "    \t   / \\         / \\           / \\\n",
    "    \t  6   6       6   9         7   7\n",
    "    \t / \\ / \\     / \\  / \\      / \\ / \\\n",
    "    \t5  7 7  5    5  7 7  5    7  7 7\n",
    "\n",
    "```"
   ]
  },
  {
   "cell_type": "code",
   "execution_count": 2,
   "metadata": {},
   "outputs": [],
   "source": [
    "# -*- coding:utf-8 -*-\n",
    "class TreeNode:\n",
    "    def __init__(self, x):\n",
    "        self.val = x\n",
    "        self.left = None\n",
    "        self.right = None\n",
    "class Solution:\n",
    "    def isSymmetrical(self, pRoot):\n",
    "        # write code here\n",
    "        return self.isSymBT(pRoot,pRoot)\n",
    "    def isSymBT(self,tree1,tree2):\n",
    "        if tree1 == None and tree2 == None:\n",
    "            return True\n",
    "        if tree1 == None or tree2 == None:\n",
    "            return False\n",
    "        if tree1.val != tree2.val:\n",
    "            return False\n",
    "         \n",
    "        return self.isSymBT(tree1.left,tree2.right) and self.isSymBT(tree1.right,tree2.left)"
   ]
  },
  {
   "cell_type": "code",
   "execution_count": 4,
   "metadata": {},
   "outputs": [],
   "source": [
    "Tree = TreeNode(8)\n",
    "Tree.left = TreeNode(6)\n",
    "Tree.right = TreeNode(6)\n",
    "Tree.left.left = TreeNode(5)\n",
    "Tree.left.right = TreeNode(7)\n",
    "Tree.right.left = TreeNode(7)\n",
    "Tree.right.right = TreeNode(5)\n",
    "\n",
    "Tree1 = TreeNode(8)\n",
    "Tree1.left = TreeNode(6)\n",
    "Tree1.right = TreeNode(9)\n",
    "Tree1.left.left = TreeNode(5)\n",
    "Tree1.left.right = TreeNode(7)\n",
    "Tree1.right.left = TreeNode(7)\n",
    "Tree1.right.right = TreeNode(5)\n",
    "\n",
    "Tree2 = TreeNode(7)\n",
    "Tree2.left = TreeNode(7)\n",
    "Tree2.right = TreeNode(7)\n",
    "Tree2.left.left = TreeNode(7)\n",
    "Tree2.left.right = TreeNode(7)\n",
    "Tree2.right.left = TreeNode(7)"
   ]
  },
  {
   "cell_type": "code",
   "execution_count": 7,
   "metadata": {},
   "outputs": [
    {
     "data": {
      "text/plain": [
       "False"
      ]
     },
     "execution_count": 7,
     "metadata": {},
     "output_type": "execute_result"
    }
   ],
   "source": [
    "s = Solution()\n",
    "s.isSymmetrical(Tree2)"
   ]
  },
  {
   "cell_type": "code",
   "execution_count": null,
   "metadata": {},
   "outputs": [],
   "source": []
  }
 ],
 "metadata": {
  "kernelspec": {
   "display_name": "Python 3",
   "language": "python",
   "name": "python3"
  },
  "language_info": {
   "codemirror_mode": {
    "name": "ipython",
    "version": 3
   },
   "file_extension": ".py",
   "mimetype": "text/x-python",
   "name": "python",
   "nbconvert_exporter": "python",
   "pygments_lexer": "ipython3",
   "version": "3.7.4"
  }
 },
 "nbformat": 4,
 "nbformat_minor": 4
}
