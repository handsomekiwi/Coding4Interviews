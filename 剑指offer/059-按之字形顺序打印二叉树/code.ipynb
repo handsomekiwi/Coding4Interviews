{
 "cells": [
  {
   "cell_type": "markdown",
   "metadata": {},
   "source": [
    "### 题目描述\n",
    "\n",
    "请实现一个函数按照之字形打印二叉树，即第一行按照从左到右的顺序打印，第二层按照从右至左的顺序打印，第三行按照从左到右的顺序打印，其他行以此类推。\n",
    "\n",
    "### 思路\n",
    "\n",
    "层序打印即可。\n",
    "```\n",
    "\n",
    "    \t    8\n",
    "    \t   /  \\\n",
    "    \t  6   10\n",
    "    \t / \\  / \\\n",
    "    \t5  7 9 11\n",
    "    \t二叉树\n",
    "\n",
    "```"
   ]
  },
  {
   "cell_type": "code",
   "execution_count": 19,
   "metadata": {},
   "outputs": [],
   "source": [
    "# -*- coding:utf-8 -*-\n",
    "class TreeNode:\n",
    "    def __init__(self, x):\n",
    "        self.val = x\n",
    "        self.left = None\n",
    "        self.right = None\n",
    "class Solution:\n",
    "    def Print(self, pRoot):\n",
    "        # write code here\n",
    "        if not pRoot: return []\n",
    "        res = []\n",
    "        queue = [pRoot]      \n",
    "        j = -1\n",
    "        while queue:\n",
    "            j += 1\n",
    "            n = len(queue)            \n",
    "            temp = []\n",
    "            for _ in range(n):\n",
    "                node = queue.pop(0)\n",
    "                temp.append(node.val)\n",
    "                if node.left: queue.append(node.left)\n",
    "                if node.right: queue.append(node.right)            \n",
    "            if j % 2:\n",
    "                temp.reverse()\n",
    "            res.append(temp)\n",
    "        return res"
   ]
  },
  {
   "cell_type": "code",
   "execution_count": 20,
   "metadata": {},
   "outputs": [],
   "source": [
    "Tree = TreeNode(8)\n",
    "Tree.left = TreeNode(6)\n",
    "Tree.right = TreeNode(10)\n",
    "Tree.left.left = TreeNode(5)\n",
    "Tree.left.right = TreeNode(7)\n",
    "Tree.right.left = TreeNode(9)\n",
    "Tree.right.right = TreeNode(11)"
   ]
  },
  {
   "cell_type": "code",
   "execution_count": 21,
   "metadata": {},
   "outputs": [
    {
     "data": {
      "text/plain": [
       "[[8], [10, 6], [5, 7, 9, 11]]"
      ]
     },
     "execution_count": 21,
     "metadata": {},
     "output_type": "execute_result"
    }
   ],
   "source": [
    "s = Solution()\n",
    "s.Print(Tree)"
   ]
  },
  {
   "cell_type": "code",
   "execution_count": null,
   "metadata": {},
   "outputs": [],
   "source": []
  }
 ],
 "metadata": {
  "kernelspec": {
   "display_name": "Python 3",
   "language": "python",
   "name": "python3"
  },
  "language_info": {
   "codemirror_mode": {
    "name": "ipython",
    "version": 3
   },
   "file_extension": ".py",
   "mimetype": "text/x-python",
   "name": "python",
   "nbconvert_exporter": "python",
   "pygments_lexer": "ipython3",
   "version": "3.7.3"
  }
 },
 "nbformat": 4,
 "nbformat_minor": 2
}
