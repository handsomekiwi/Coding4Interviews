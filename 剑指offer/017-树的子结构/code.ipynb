{
 "cells": [
  {
   "cell_type": "markdown",
   "metadata": {},
   "source": [
    "### 题目描述\n",
    "\n",
    "输入两棵二叉树A，B，判断B是不是A的子结构。（ps：我们约定空树不是任意一个树的子结构）\n",
    "\n",
    "### 思路\n",
    "\n",
    "- 1. 遍历父结构\n",
    "- 2. 判断子结构是否相同\n"
   ]
  },
  {
   "cell_type": "code",
   "execution_count": 2,
   "metadata": {},
   "outputs": [],
   "source": [
    "# -*- coding:utf-8 -*-\n",
    "class TreeNode:\n",
    "    def __init__(self, x):\n",
    "        self.val = x\n",
    "        self.left = None\n",
    "        self.right = None\n",
    "class Solution:\n",
    "    def HasSubtree(self, pRoot1, pRoot2):\n",
    "        # write code here\n",
    "        if not pRoot1 or not pRoot2:\n",
    "            return False\n",
    "        return self.is_subtree(pRoot1, pRoot2) or self.HasSubtree(pRoot1.left, pRoot2) or self.HasSubtree(pRoot1.right, pRoot2)\n",
    "     \n",
    "    def is_subtree(self, A, B):\n",
    "        if not B:\n",
    "            return True\n",
    "        if not A or A.val != B.val:\n",
    "            return False\n",
    "        return self.is_subtree(A.left,B.left) and self.is_subtree(A.right, B.right)          \n",
    "        "
   ]
  },
  {
   "cell_type": "code",
   "execution_count": 14,
   "metadata": {},
   "outputs": [],
   "source": [
    "TreeA = TreeNode(8)\n",
    "TreeA.right = TreeNode(7)\n",
    "TreeA.left = TreeNode(8)\n",
    "TreeA.left.left =  TreeNode(9)\n",
    "TreeA.left.right =  TreeNode(2)\n",
    "TreeA.left.right.left =  TreeNode(4)\n",
    "TreeA.left.right.right =  TreeNode(7)\n",
    "TreeB = TreeNode(8)\n",
    "TreeB.right = TreeNode(2)\n",
    "TreeB.left = TreeNode(9)"
   ]
  },
  {
   "cell_type": "code",
   "execution_count": 19,
   "metadata": {},
   "outputs": [
    {
     "data": {
      "text/plain": [
       "True"
      ]
     },
     "execution_count": 19,
     "metadata": {},
     "output_type": "execute_result"
    }
   ],
   "source": [
    "s = Solution()\n",
    "s.HasSubtree(TreeA,TreeB)"
   ]
  },
  {
   "cell_type": "code",
   "execution_count": null,
   "metadata": {},
   "outputs": [],
   "source": []
  }
 ],
 "metadata": {
  "kernelspec": {
   "display_name": "Python 3",
   "language": "python",
   "name": "python3"
  },
  "language_info": {
   "codemirror_mode": {
    "name": "ipython",
    "version": 3
   },
   "file_extension": ".py",
   "mimetype": "text/x-python",
   "name": "python",
   "nbconvert_exporter": "python",
   "pygments_lexer": "ipython3",
   "version": "3.7.4"
  }
 },
 "nbformat": 4,
 "nbformat_minor": 4
}
