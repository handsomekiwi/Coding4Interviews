{
 "cells": [
  {
   "cell_type": "markdown",
   "metadata": {},
   "source": [
    "### 题目描述\n",
    "\n",
    "输入一个整数数组，实现一个函数来调整该数组中数字的顺序，使得所有的奇数位于数组的前半部分，所有的偶数位于数组的后半部分，并保证奇数和奇数，偶数和偶数之间的相对位置不变。\n",
    "\n",
    "### 思路\n",
    "##### 思路1\n",
    "遍历一次，统计奇数个数。\n",
    "\n",
    "然后从前往后填坑。\n",
    "#### 思路2\n",
    "兩指針，前指向偶，後指向奇，交換直到兩指針交會"
   ]
  },
  {
   "cell_type": "code",
   "execution_count": 7,
   "metadata": {},
   "outputs": [],
   "source": [
    "# -*- coding:utf-8 -*-\n",
    "class Solution:\n",
    "    def reOrderArray(self, array):\n",
    "        # write code here\n",
    "        odd_cnt = 0\n",
    "        res = [0] * len(array)        \n",
    "        # 统计个数\n",
    "        for n in array:  \n",
    "            if n % 2 != 0:\n",
    "                odd_cnt += 1\n",
    "        # 填坑\n",
    "        odd_i = 0\n",
    "        even_i = odd_cnt\n",
    "        for i in range(len(array)):\n",
    "            if array[i] % 2 != 0:  \n",
    "                res[odd_i] = array[i]\n",
    "                odd_i += 1\n",
    "            else:\n",
    "                res[even_i] = array[i]\n",
    "                even_i += 1\n",
    "        return res"
   ]
  },
  {
   "cell_type": "code",
   "execution_count": 8,
   "metadata": {},
   "outputs": [
    {
     "name": "stdout",
     "output_type": "stream",
     "text": [
      "[0, 0, 0, 0, 0, 0, 0]\n"
     ]
    },
    {
     "data": {
      "text/plain": [
       "[3, 7, 23, 6, 4, 44, 56]"
      ]
     },
     "execution_count": 8,
     "metadata": {},
     "output_type": "execute_result"
    }
   ],
   "source": [
    "Solution.reOrderArray(None,[6,3,4,7,23,44,56])"
   ]
  }
 ],
 "metadata": {
  "kernelspec": {
   "display_name": "Python 3",
   "language": "python",
   "name": "python3"
  },
  "language_info": {
   "codemirror_mode": {
    "name": "ipython",
    "version": 3
   },
   "file_extension": ".py",
   "mimetype": "text/x-python",
   "name": "python",
   "nbconvert_exporter": "python",
   "pygments_lexer": "ipython3",
   "version": "3.7.4"
  }
 },
 "nbformat": 4,
 "nbformat_minor": 4
}
