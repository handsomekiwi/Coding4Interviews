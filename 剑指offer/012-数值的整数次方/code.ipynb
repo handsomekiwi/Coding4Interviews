{
 "cells": [
  {
   "cell_type": "markdown",
   "metadata": {},
   "source": [
    "### 题目描述\n",
    "给定一个double类型的浮点数base和int类型的整数exponent。求base的exponent次方。\n",
    "\n",
    "\n",
    "指数幂的所有边界包括:\n",
    "\n",
    "- 指数为0的情况，不管底数是多少都应该是1\n",
    "- 指数为负数的情况，求出的应该是其倒数幂的倒数\n",
    "- 指数为负数的情况下，底数不能为0\n"
   ]
  },
  {
   "cell_type": "code",
   "execution_count": 16,
   "metadata": {},
   "outputs": [],
   "source": [
    "class Solution:\n",
    "    def Power(self, base, exponent):\n",
    "        # write code here\n",
    "        flag = 0\n",
    "        if base == 0:\n",
    "            return 0\n",
    "        if exponent == 0:\n",
    "            return 1\n",
    "        if exponent < 0:\n",
    "            flag = 1\n",
    "        result = 1\n",
    "        for i in range(abs(exponent)):\n",
    "            result *= base\n",
    "        if flag == 1:\n",
    "            result = 1 / result\n",
    "        return result"
   ]
  },
  {
   "cell_type": "code",
   "execution_count": 17,
   "metadata": {},
   "outputs": [
    {
     "data": {
      "text/plain": [
       "0.25"
      ]
     },
     "execution_count": 17,
     "metadata": {},
     "output_type": "execute_result"
    }
   ],
   "source": [
    "Solution.Power(None,2, -2)"
   ]
  },
  {
   "cell_type": "code",
   "execution_count": null,
   "metadata": {},
   "outputs": [],
   "source": []
  }
 ],
 "metadata": {
  "kernelspec": {
   "display_name": "Python 3",
   "language": "python",
   "name": "python3"
  },
  "language_info": {
   "codemirror_mode": {
    "name": "ipython",
    "version": 3
   },
   "file_extension": ".py",
   "mimetype": "text/x-python",
   "name": "python",
   "nbconvert_exporter": "python",
   "pygments_lexer": "ipython3",
   "version": "3.7.3"
  }
 },
 "nbformat": 4,
 "nbformat_minor": 2
}
