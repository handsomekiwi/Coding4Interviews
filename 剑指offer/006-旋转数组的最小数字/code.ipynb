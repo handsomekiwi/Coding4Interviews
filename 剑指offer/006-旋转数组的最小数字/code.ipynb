{
 "cells": [
  {
   "cell_type": "markdown",
   "metadata": {},
   "source": [
    "### 题目描述\n",
    "把一个数组最开始的若干个元素搬到数组的末尾，我们称之为数组的旋转。 输入一个非减排序的数组的一个旋转，输出旋转数组的最小元素。 例如数组{3,4,5,1,2}为{1,2,3,4,5}的一个旋转，该数组的最小值为1。 NOTE：给出的所有元素都大于0，若数组大小为0，请返回0。\n",
    "\n",
    "### 思路\n",
    "总体二分：\n",
    "- if mid大于left, left = mid\n",
    "- if mid小于left, right = mid\n",
    "- 直到mid<mid-1位置的数\n"
   ]
  },
  {
   "cell_type": "code",
   "execution_count": 36,
   "metadata": {},
   "outputs": [],
   "source": [
    "# -*- coding:utf-8 -*-\n",
    "class Solution:\n",
    "    def minNumberInRotateArray(self, rotateArray):\n",
    "        # write code here   \n",
    "        if len(rotateArray) == 0:\n",
    "            return 0\n",
    "        index1 = 0\n",
    "        index2 = len(rotateArray)-1\n",
    "        indexMid = index1\n",
    "        while rotateArray[index1]>=rotateArray[index2]:\n",
    "            if(index2-index1 == 1):\n",
    "                indexMid = index2;\n",
    "                break\n",
    "            indexMid = (index1+index2)//2\n",
    "            if rotateArray[indexMid]>=rotateArray[index1]:\n",
    "                index1 = indexMid\n",
    "            elif rotateArray[indexMid]<=rotateArray[index2]:\n",
    "                index2 = indexMid\n",
    "        #下標 index1 index2 indexmid 指向數字相等時只能順序查找\n",
    "        # TODO\n",
    "        return rotateArray[indexMid]"
   ]
  },
  {
   "cell_type": "code",
   "execution_count": 39,
   "metadata": {},
   "outputs": [
    {
     "name": "stdout",
     "output_type": "stream",
     "text": [
      "1\n",
      "0\n"
     ]
    }
   ],
   "source": [
    "print(Solution.minNumberInRotateArray(None,[3,4,5,1,2]))\n",
    "print(Solution.minNumberInRotateArray(None,[]))"
   ]
  },
  {
   "cell_type": "code",
   "execution_count": 41,
   "metadata": {},
   "outputs": [
    {
     "name": "stdout",
     "output_type": "stream",
     "text": [
      "0\n"
     ]
    }
   ],
   "source": [
    "print(Solution.minNumberInRotateArray(None,[1,1,1,0,1]))"
   ]
  }
 ],
 "metadata": {
  "kernelspec": {
   "display_name": "Python 3",
   "language": "python",
   "name": "python3"
  },
  "language_info": {
   "codemirror_mode": {
    "name": "ipython",
    "version": 3
   },
   "file_extension": ".py",
   "mimetype": "text/x-python",
   "name": "python",
   "nbconvert_exporter": "python",
   "pygments_lexer": "ipython3",
   "version": "3.7.4"
  }
 },
 "nbformat": 4,
 "nbformat_minor": 4
}
