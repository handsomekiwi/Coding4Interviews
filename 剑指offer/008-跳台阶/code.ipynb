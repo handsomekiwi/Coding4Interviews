{
 "cells": [
  {
   "cell_type": "markdown",
   "metadata": {},
   "source": [
    "### 题目描述\n",
    "一只青蛙一次可以跳上1级台阶，也可以跳上2级。求该青蛙跳上一个n级的台阶总共有多少种跳法（先后次序不同算不同的结果）。\n",
    "\n",
    "### 思路\n",
    "\n",
    "假设对于第n级台阶，总共有f(n)种跳法.\n",
    "\n",
    "那么f(n) = f(n-1) + f(n-2)，其中f(1)=1,f(2)=2"
   ]
  },
  {
   "cell_type": "code",
   "execution_count": 10,
   "metadata": {},
   "outputs": [
    {
     "data": {
      "text/plain": [
       "3"
      ]
     },
     "execution_count": 10,
     "metadata": {},
     "output_type": "execute_result"
    }
   ],
   "source": [
    "class Solution:\n",
    "    def jumpFloor(self, number):\n",
    "        # write code here        \n",
    "        f0 = 1\n",
    "        f1 = 2\n",
    "        temp = 0\n",
    "        if number == 1: return f0\n",
    "        if number == 2: return f1\n",
    "        for i in range(number-2):\n",
    "            temp = f0+f1;\n",
    "            f0=f1\n",
    "            f1=temp\n",
    "        return temp\n",
    "Solution.jumpFloor(None,3)"
   ]
  }
 ],
 "metadata": {
  "kernelspec": {
   "display_name": "Python 3",
   "language": "python",
   "name": "python3"
  },
  "language_info": {
   "codemirror_mode": {
    "name": "ipython",
    "version": 3
   },
   "file_extension": ".py",
   "mimetype": "text/x-python",
   "name": "python",
   "nbconvert_exporter": "python",
   "pygments_lexer": "ipython3",
   "version": "3.7.3"
  }
 },
 "nbformat": 4,
 "nbformat_minor": 2
}
