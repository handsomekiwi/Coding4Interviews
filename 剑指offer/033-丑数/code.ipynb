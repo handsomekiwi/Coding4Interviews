{
 "cells": [
  {
   "cell_type": "markdown",
   "metadata": {},
   "source": [
    "### 题目描述\n",
    "\n",
    "把只包含质因子2、3和5的数称作丑数（Ugly Number）。例如6、8都是丑数，但14不是，因为它包含质因子7。 习惯上我们把1当做是第一个丑数。求按从小到大的顺序的第N个丑数。\n",
    "\n",
    "### 思路\n",
    "\n",
    "思路1.暴力法\n",
    "\n",
    "需要遍历所有数，o(n^2)复杂度，超时。\n",
    "\n",
    "思路2.暴力+存储\n",
    "\n",
    "也需要遍历所有数，只是反证丑数时节约时间，o(n^2)复杂度，依旧超时。\n",
    "\n",
    "思路3.存储最小丑数，依次向上取，o(n)复杂度。"
   ]
  },
  {
   "cell_type": "code",
   "execution_count": 7,
   "metadata": {},
   "outputs": [],
   "source": [
    "# -*- coding:utf-8 -*-\n",
    "class Solution:\n",
    "    def GetUglyNumber_Solution(self, index):\n",
    "        # write code here\n",
    "        if index <= 1: return index\n",
    "        res = [1] * index\n",
    "        i2, i3, i5 = 0, 0, 0\n",
    "        for i in range(1, index):\n",
    "            res[i] = min(res[i2]*2, min(res[i3]*3, res[i5]*5))\n",
    "            if res[i] == res[i2]*2: i2 += 1\n",
    "            if res[i] == res[i3]*3: i3 += 1\n",
    "            if res[i] == res[i5]*5: i5 += 1\n",
    "        return res[-1]"
   ]
  },
  {
   "cell_type": "code",
   "execution_count": 8,
   "metadata": {},
   "outputs": [
    {
     "name": "stdout",
     "output_type": "stream",
     "text": [
      "5898240\n"
     ]
    }
   ],
   "source": [
    "s = Solution()\n",
    "print(s.GetUglyNumber_Solution(700))"
   ]
  },
  {
   "cell_type": "code",
   "execution_count": null,
   "metadata": {},
   "outputs": [],
   "source": []
  }
 ],
 "metadata": {
  "kernelspec": {
   "display_name": "Python 3",
   "language": "python",
   "name": "python3"
  },
  "language_info": {
   "codemirror_mode": {
    "name": "ipython",
    "version": 3
   },
   "file_extension": ".py",
   "mimetype": "text/x-python",
   "name": "python",
   "nbconvert_exporter": "python",
   "pygments_lexer": "ipython3",
   "version": "3.7.3"
  }
 },
 "nbformat": 4,
 "nbformat_minor": 2
}
