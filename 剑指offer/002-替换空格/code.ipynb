{
 "cells": [
  {
   "cell_type": "markdown",
   "metadata": {},
   "source": [
    "### 题目描述\n",
    "请实现一个函数，将一个字符串中的每个空格替换成“%20”。例如，当字符串为We Are Happy.则经过替换之后的字符串为We%20Are%20Happy。\n",
    "\n",
    "### 思路\n",
    "\n",
    "先遍历找到多少个空格，然后开辟数组填充 O(N^2)"
   ]
  },
  {
   "cell_type": "code",
   "execution_count": 4,
   "metadata": {},
   "outputs": [],
   "source": [
    "# -*- coding:utf-8 -*-\n",
    "class Solution:\n",
    "    # s 源字符串\n",
    "    def replaceSpace(self, s):\n",
    "        # write code here\n",
    "        s_len = len(s)\n",
    "        space_count = 0\n",
    "        for i in s:\n",
    "            if i == ' ':\n",
    "                space_count += 1\n",
    "        s_len += 2 * space_count\n",
    "        new_array = [' '] * s_len\n",
    "        j = 0\n",
    "        for i in range(len(s)):\n",
    "            if s[i] == ' ':\n",
    "                new_array[j] = '%'\n",
    "                new_array[j+1] = '2'\n",
    "                new_array[j+2] = '0'\n",
    "                j += 3\n",
    "            else:\n",
    "                new_array[j] = s[i]\n",
    "                j += 1\n",
    "        return new_array"
   ]
  },
  {
   "cell_type": "code",
   "execution_count": 5,
   "metadata": {},
   "outputs": [
    {
     "name": "stdout",
     "output_type": "stream",
     "text": [
      "['W', 'e', '%', '2', '0', 'A', 'r', 'e', '%', '2', '0', 'H', 'a', 'p', 'p', 'y']\n"
     ]
    }
   ],
   "source": [
    "s = Solution()\n",
    "print(s.replaceSpace('We Are Happy'))"
   ]
  },
  {
   "cell_type": "code",
   "execution_count": null,
   "metadata": {},
   "outputs": [],
   "source": []
  }
 ],
 "metadata": {
  "kernelspec": {
   "display_name": "Python 3",
   "language": "python",
   "name": "python3"
  },
  "language_info": {
   "codemirror_mode": {
    "name": "ipython",
    "version": 3
   },
   "file_extension": ".py",
   "mimetype": "text/x-python",
   "name": "python",
   "nbconvert_exporter": "python",
   "pygments_lexer": "ipython3",
   "version": "3.7.3"
  }
 },
 "nbformat": 4,
 "nbformat_minor": 2
}
